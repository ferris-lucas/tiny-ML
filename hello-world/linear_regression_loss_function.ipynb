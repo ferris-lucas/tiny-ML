{
  "nbformat": 4,
  "nbformat_minor": 0,
  "metadata": {
    "colab": {
      "name": "linear-regression-loss-function.ipynb",
      "provenance": []
    },
    "kernelspec": {
      "name": "python3",
      "display_name": "Python 3"
    }
  },
  "cells": [
    {
      "cell_type": "markdown",
      "metadata": {
        "id": "AVgFQmmeHpkW"
      },
      "source": [
        "Machine Learning envolve uma mudança de paradigma: Enviamos dados + respostas para o modelo e ele nos retorna a regra que leva os dados às respostas.\r\n",
        "Neste primeiro exemplo, vamos explorar a funcionalidade para buscar a regra (função) que leva os valores X em Y / f(x) = y\r\n"
      ]
    },
    {
      "cell_type": "code",
      "metadata": {
        "id": "jhxrNMcLHizd"
      },
      "source": [
        "import math"
      ],
      "execution_count": 2,
      "outputs": []
    },
    {
      "cell_type": "code",
      "metadata": {
        "colab": {
          "base_uri": "https://localhost:8080/"
        },
        "id": "lDOso0FQHkWG",
        "outputId": "d30f0f8f-8e6f-44a1-e76e-df0af716b125"
      },
      "source": [
        "x = [-1, 0, 1, 2, 3, 4]\r\n",
        "y = [-3, -1, 1, 3, 5, 7]\r\n",
        "\r\n",
        "#vamos supor que o modelo é linear e estimar uma curva que encaixe o Y em função do valor de X\r\n",
        "# y = a * x + b\r\n",
        "\r\n",
        "a = 3\r\n",
        "b = -1\r\n",
        "\r\n",
        "#vamos armazenar os dados estimados para comparação posterior\r\n",
        "Y_estimado = []\r\n",
        "\r\n",
        "for item in x:\r\n",
        "  Y_calculado = a*item+b\r\n",
        "  Y_estimado.append(Y_calculado)\r\n",
        "\r\n",
        "print('Y real:', y)\r\n",
        "\r\n",
        "print('Y estimado:', Y_estimado)\r\n",
        "\r\n",
        "# vamos definir a função de erro como sendo a diferença entre o Y que desejamos e o que calculamos\r\n",
        "# vamos somar o erro de cada par de Y (calculado e esperado) para medir a precisão do modelo\r\n",
        "# como podemos ter valores positivos e negativos, vamos elevar todas diferenças ao quadrado para evitar este inconveniente\r\n",
        "\r\n",
        "erro_quadratico_total = 0\r\n",
        "for i in range(0,len(y)):\r\n",
        "  erro_quadratico = (y[i] - Y_estimado[i])**2\r\n",
        "  erro_quadratico_total = erro_quadratico_total + erro_quadratico\r\n",
        "\r\n",
        "print('Erro quadratico total ', str(math.sqrt(erro_quadratico_total)))"
      ],
      "execution_count": 22,
      "outputs": [
        {
          "output_type": "stream",
          "text": [
            "Y real: [-3, -1, 1, 3, 5, 7]\n",
            "Y estimado: [-4, -1, 2, 5, 8, 11]\n",
            "Erro quadratico total  5.5677643628300215\n"
          ],
          "name": "stdout"
        }
      ]
    },
    {
      "cell_type": "code",
      "metadata": {
        "id": "c6sGE8icLKbt"
      },
      "source": [
        ""
      ],
      "execution_count": null,
      "outputs": []
    }
  ]
}